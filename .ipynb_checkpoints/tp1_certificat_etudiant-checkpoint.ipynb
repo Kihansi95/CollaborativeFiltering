{
 "cells": [
  {
   "cell_type": "markdown",
   "metadata": {},
   "source": [
    "# Introduction à l'opimisation différentiable : méthodes de descente de gradients"
   ]
  },
  {
   "cell_type": "markdown",
   "metadata": {},
   "source": [
    "Le but du TP est d'illustrer les performances d'un certain nombre de méthodes classiques pour l'optimisation sans contrainte, dans le cas de problèmes quadratiques et non-linéaires. "
   ]
  },
  {
   "cell_type": "code",
   "execution_count": 50,
   "metadata": {},
   "outputs": [],
   "source": [
    "#\n",
    "# Chargement des librairies\n",
    "#\n",
    "import matplotlib.pyplot as plt\n",
    "import numpy as np\n",
    "from numpy import linalg as la\n",
    "from scipy import linalg as sla\n",
    "import math\n",
    "import functools as ft"
   ]
  },
  {
   "cell_type": "markdown",
   "metadata": {},
   "source": [
    " ## Définition des problèmes d'optimisation"
   ]
  },
  {
   "cell_type": "markdown",
   "metadata": {},
   "source": [
    "Les problèmes étudiés seront les suivants :\n",
    " \n",
    "   $(\\mathcal{P}_1)\\quad \\min_{x \\in \\mathbb{R}^n} f(x)=x^TAx+b^Tx$, avec $A$ symétrique définie positive;\n",
    "   \n",
    "   $(\\mathcal{P}_2)\\quad \\min_{x \\in \\mathbb{R}^2} f(x)=100(x_2-x_1^2)^2+(1-x_1)^2$, avec f la fonction de Rosenbrock.\n",
    "  \n",
    "La minimisation de fonctionnelles quadratiques (problème $(\\mathcal{P}_1)$) constitue la base sur lequel s'appuie un certain nombre de méthodes d'optimisation. Le problème $(\\mathcal{P}_2)$ permet d'illustrer les difficultés qui surgissent quand on cherche à minimsier une fonction non-linéaire non-quadratique."
   ]
  },
  {
   "cell_type": "markdown",
   "metadata": {},
   "source": [
    "## I - Minimisation d'une fonction quadratique"
   ]
  },
  {
   "cell_type": "code",
   "execution_count": 51,
   "metadata": {},
   "outputs": [],
   "source": [
    "## Problèmes quadratiques\n",
    "def build_problem(n,condA):\n",
    "    # Construction d'une matrice symétrique définie positive\n",
    "    # et d'un vecteur de même dimension\n",
    "    # n : entier, dimension de la matrice\n",
    "    # condA : entier, conditionnement de la matrice 10^condA\n",
    "    # Sortie : matrice A, vecteur b\n",
    "    \n",
    "    A = np.zeros([n,n])\n",
    "    Q,R=sla.qr(np.random.rand(n,n))\n",
    "    D=np.diag((10*np.ones([n]))**np.linspace(-condA,0,num=n))\n",
    "    A=np.matmul(np.matmul(np.transpose(Q),D),Q)    \n",
    "    \n",
    "    b=np.random.randn(n,1)\n",
    "    \n",
    "    return A,b\n",
    "\n",
    "# Paramètres du problème\n",
    "condA=3\n",
    "n=100\n",
    "A,b=build_problem(n,condA)\n"
   ]
  },
  {
   "cell_type": "markdown",
   "metadata": {},
   "source": [
    "**Question**: Implanter les fonctions f, gradient de f et Hessienne de f associée au problème $(\\mathcal{P}_1)$"
   ]
  },
  {
   "cell_type": "code",
   "execution_count": 52,
   "metadata": {},
   "outputs": [],
   "source": [
    "def fquad(x,A,b):\n",
    "    # Fonction quadratique : f(x)=0.5*x'*A*x+b'*x\n",
    "    # A : matrice symétrique de taille n\n",
    "    # b,x : vecteurs de taille n\n",
    "    \n",
    "    f = 0.5 * x.T.dot(A.dot(x)) + b.T.dot(x)\n",
    "    \n",
    "    return f\n",
    "\n",
    "def gquad(x,A,b):\n",
    "    # Gradient de la fonction fquad\n",
    "    # A : matrice symétrique de taille n\n",
    "    # b,x : vecteurs de taille n\n",
    "    \n",
    "    g = A.dot(x) + b\n",
    "    \n",
    "    return g\n",
    "    \n",
    "def hquad(x,A,b):\n",
    "    # Gradient de la fonction fquad\n",
    "    # A : matrice symétrique de taille n\n",
    "    # b,x : vecteurs de taille n\n",
    "    \n",
    "    H = A\n",
    "    \n",
    "    return H"
   ]
  },
  {
   "cell_type": "code",
   "execution_count": 53,
   "metadata": {},
   "outputs": [
    {
     "name": "stdout",
     "output_type": "stream",
     "text": [
      "f =  [[14.]]\n",
      "G =  [[ 7.]\n",
      " [12.]]\n",
      "H =  [[1 2]\n",
      " [3 4]]\n"
     ]
    }
   ],
   "source": [
    "# Test\n",
    "A_test = np.matrix('1 2; 3 4')\n",
    "b_test = np.matrix('4; 5')\n",
    "x_test = np.ones((2,1))\n",
    "print(\"f = \", fquad(x_test,A_test,b_test))\n",
    "print('G = ', gquad(x_test, A_test, b_test))\n",
    "print('H = ', hquad(x_test, A_test, b_test))"
   ]
  },
  {
   "cell_type": "markdown",
   "metadata": {},
   "source": [
    " ### I-1 Application de la méthode de la plus grande pente (\"steepest descent\").\n",
    " \n",
    " **Question**: Implanter la méthode de la \"steepest descent\" pour la minimisation d'une fonction quadratique. Vous pourrez anticiper l'utilisation de méthode de descente de gradient pour le cas de fonctions non-quadratiques (different choix de pas)."
   ]
  },
  {
   "cell_type": "code",
   "execution_count": 91,
   "metadata": {},
   "outputs": [],
   "source": [
    "# TO DO\n",
    "# Au choix : une fonction \"steepest descente\" ou des fonctions descentes et \"pas optimal\".\n",
    "# En sortie, la fonction devra renvoyer : \n",
    "#       x : vecteur contenant l'itéré optimisé.\n",
    "#       flag : un entier indiquant la raison d'arrêt de l'algorithme : 1 - convergence, \n",
    "#              2 - stagnation de la suite des itérés, 3 - nombre d'itérations maximum atteint.\n",
    "#       nbiter : nombre d'itérations réalisées.\n",
    "#       iterf : tableau contenant les valeurs de f au cours de la minimisation.\n",
    "\n",
    "def steepest_descent(x0, eps, max_iter, A, b):\n",
    "    \"\"\"steepest_descent\n",
    "    @param x0 : variable initiale\n",
    "    @param eps : tolérance, contains 2 elements\n",
    "    @param max_iter : nombre iteration maximale\n",
    "    \"\"\"\n",
    "    iterf = np.zeros(max_iter)    \n",
    "    x = x0\n",
    "    flag = -1\n",
    "    for k in range(max_iter):\n",
    "        d = - gquad(x, A, b)\n",
    "        alpha = d.T.dot(d) / d.T.dot(A.dot(d))\n",
    "        x_last = x\n",
    "        x = x + alpha * d\n",
    "        iterf[k] = fquad(x, A, b)\n",
    "        \n",
    "        # convergency : gradient = 0\n",
    "        if la.norm( gquad(x, A, b) ) < eps[0] *( la.norm( gquad(x0, A, b) ) + 10**-10) :\n",
    "            flag = 1\n",
    "            break\n",
    "            \n",
    "        # stagnation : gradient descent slowly\n",
    "        if la.norm( x - x_last ) <= eps[1] * (la.norm(x) + 10**-10) :\n",
    "            flag = 2\n",
    "            break\n",
    "    \n",
    "    nbiter = k   \n",
    "    if nbiter == max_iter -1 :\n",
    "        flag = 3\n",
    "    else:\n",
    "        iterf = iterf[0:nbiter]\n",
    "    \n",
    "    return x, flag, nbiter, iterf"
   ]
  },
  {
   "cell_type": "markdown",
   "metadata": {},
   "source": [
    "**Question**: Résoudre le problème d'optimisation $(\\mathcal{P}_1)$. Evaluez la sensibilité des résultats aux paramètres d'entrée de l'algorithme ($x_0$, tolérances, nombre d'itérations maximum,..)."
   ]
  },
  {
   "cell_type": "code",
   "execution_count": 92,
   "metadata": {},
   "outputs": [
    {
     "name": "stdout",
     "output_type": "stream",
     "text": [
      "Valeur optimale théorique de f: [[-8859.06244552]]\n",
      "Valeur à l'optinum numérique: [[-8859.06244192]]\n",
      "Condition d'arrêt: 1\n",
      "[ -312.82435485  -510.02696938  -633.04165399 ... -8859.06244188\n",
      " -8859.06244189 -8859.06244191]\n"
     ]
    },
    {
     "data": {
      "image/png": "[encoded data removed]",
      "text/plain": [
       "<Figure size 432x288 with 1 Axes>"
      ]
     },
     "metadata": {},
     "output_type": "display_data"
    }
   ],
   "source": [
    "#Définition des paramètres de la méthode : x0, tolérances, nombre d'itérations,etc ..\n",
    "x0 = np.random.rand(n,1)\n",
    "tolérances = np.array([10**-5, 10**-10])\n",
    "nombre_iteration = 10000\n",
    "\n",
    "# Résolution du problème d'optimisation\n",
    "x, flag, nbiter, iterf = steepest_descent(x0, tolérances, nombre_iteration, A, b)\n",
    "\n",
    "# Affichages \n",
    "#  x est le vecteur obtenu en sortie de minimisation.\n",
    "#  flag est l'entier indiquant la condition d'arrêt activée. \n",
    "#  fopt est la valeur optimale théorique.\n",
    "#  iterf est le tableau contenant les valeurs de f au cours de la minimisation.\n",
    "\n",
    "tmp=sla.solve(A,-b)\n",
    "fopt=0.5*np.dot(np.transpose(b),tmp)\n",
    "print(\"Valeur optimale théorique de f:\",fopt)\n",
    "print(\"Valeur à l'optinum numérique:\", fquad(x,A,b))\n",
    "print(\"Condition d'arrêt:\", flag)\n",
    "if flag > 1:\n",
    "    print(\"Norme du gradient initial:\",la.norm(gquad(x0,A,b)))\n",
    "    print(\"Norme du gradient:\",la.norm(gquad(x,A,b)))\n",
    "\n",
    "print(iterf)\n",
    "# plt.plot(iterf[:,0,0])\n",
    "plt.plot(iterf[:])\n",
    "plt.ylabel('f')\n",
    "plt.xlabel('Itérations')\n",
    "plt.show()"
   ]
  },
  {
   "cell_type": "markdown",
   "metadata": {},
   "source": [
    "**Question**: Illuster l'impact du conditionnement de $A$ sur les performances de l'algorithme. Vous afficherez l'évolution du nombre d'itérations en focntion du conitionnement de $A$. "
   ]
  },
  {
   "cell_type": "code",
   "execution_count": null,
   "metadata": {},
   "outputs": [],
   "source": [
    "#Intitialisation du problème\n",
    "x0=np.random.randn(n,1)\n",
    "param=[10**(-6),10**(-12),100000]\n",
    "iterC=np.array([])\n",
    "condAmax=6\n",
    "\n",
    "# Boucle sur le nombre de conditionnement\n",
    "for condA in range(condAmax):\n",
    "    # Génération et résolution du problème d'optimisation\n",
    "    x, flag, nbiter, iterf = steepest_descent(x0, param[0:-1], param[-1], condA, )\n",
    "    \n",
    "    # Sauvegarde du nombre d'itérations\n",
    "    iterC=np.concatenate((iterC,np.array([nbiter])))\n",
    "\n",
    "# Affichage\n",
    "xx=np.log10((10*np.ones([condAmax]))**np.linspace(1,condAmax,num=condAmax))\n",
    "plt.plot(xx,iterC)\n",
    "plt.ylabel('Nb itérations')\n",
    "plt.xlabel('Conditionnement')\n",
    "plt.show()"
   ]
  },
  {
   "cell_type": "markdown",
   "metadata": {},
   "source": [
    " ### I-2 Application de la méthode de Newton.\n",
    " \n",
    " **Question**: Implanter la méthode de Newton pour la minimisation d'une fonction quadratique. Vous utiliserez la méthode du gradient conjugué, déjà implantée, pour résoudre le système linéaire associé. "
   ]
  },
  {
   "cell_type": "code",
   "execution_count": 97,
   "metadata": {},
   "outputs": [],
   "source": [
    "def CG(x0,A,b,tol,itermax):\n",
    "    #Gradient conjugé\n",
    "    \n",
    "    x=x0\n",
    "    niter=0\n",
    "    r=b-np.dot(A,x)\n",
    "    d=r\n",
    "    nb=la.norm(b)\n",
    "    delta_new=np.dot(np.transpose(r),r)\n",
    "    iterf=np.array([math.sqrt(delta_new)])\n",
    "    convergence=0\n",
    "    \n",
    "    while convergence ==0:\n",
    "        niter=niter+1\n",
    "       \n",
    "        #pas optimal\n",
    "        q=np.dot(A,d)\n",
    "        den=np.dot(np.transpose(d),q)\n",
    "        alpha=delta_new/den\n",
    "        \n",
    "        #mise à jour\n",
    "        x=x+alpha*d\n",
    "        r=r-alpha*q\n",
    "    \n",
    "        delta_old=delta_new\n",
    "        delta_new=np.dot(np.transpose(r),r)\n",
    "       \n",
    "        #nouvelle direction\n",
    "        beta=delta_new/delta_old\n",
    "        d=r+beta*d\n",
    "        \n",
    "        #Test d'arrêt\n",
    "        if math.sqrt(delta_new) <= tol*(nb+10**(-14)):\n",
    "            convergence=1\n",
    "        elif niter == itermax:\n",
    "            convergence=2\n",
    "        \n",
    "        iterf=np.concatenate((iterf,np.array([math.sqrt(delta_new)])))\n",
    "        \n",
    "    #fin boucle\n",
    "    return x,iterf,niter,convergence    "
   ]
  },
  {
   "cell_type": "code",
   "execution_count": null,
   "metadata": {},
   "outputs": [],
   "source": [
    "# Fonction rélisant la minimisation par méthode de Newton \n",
    "# En sortie, la fonction devra renvoyer : \n",
    "#       x : vecteur contenant l'itéré optimisé.\n",
    "#       flag : un entier indiquant la raison d'arrêt de l'algorithme : 1 - convergence, \n",
    "#              2 - stagnation de la suite des itérés, 3 - nombre d'itérations maximum atteint.\n",
    "#       nbiter : nombre d'itérations réalisées.\n",
    "#       iterf : tableau contenant les valeurs de f au cours de la minimisation.\n",
    "#       iterCG : le nombre total d'itérations réalisées lors de sdifférents appels du gradient\n",
    "#                conjugué.\n"
   ]
  },
  {
   "cell_type": "markdown",
   "metadata": {},
   "source": [
    "**Question**: Appliquer la méthode de Newton au problème $(\\mathcal{P}_1)$. Vous afficherez le nombre d'itérations de la méthode de Newton."
   ]
  },
  {
   "cell_type": "code",
   "execution_count": null,
   "metadata": {},
   "outputs": [],
   "source": [
    "# Nouvelle définition des paramètres du problème\n",
    "condA=3\n",
    "n=1000\n",
    "A,b=build_problem(n,condA)\n",
    "\n",
    "#Définition des paramètres de la méthode : x0, tolérances, nombre d'itérations,etc ..\n",
    "# TO DO\n",
    "\n",
    "# Résolution du problème d'optimisation\n",
    "# TO DO\n",
    "\n",
    "# Affichages \n",
    "#  x est le vecteur obtenu en sortie de minimisation.\n",
    "#  flag est l'entier indiquant la condition d'arrêt activée. \n",
    "#  fopt est la valeur optimale théorique.\n",
    "#  iterf est le tableau contenant les valeurs de f au cours de la minimisation.\n",
    "\n",
    "tmp=sla.solve(A,-b)\n",
    "fopt=0.5*np.dot(np.transpose(b),tmp)\n",
    "print(\"Valeur optimale théorique de f:\",fopt)\n",
    "print(\"Valeur à l'optinum numérique:\", fquad(x,A,b))\n",
    "print(\"Condition d'arrêt:\", flag)\n",
    "if flag > 1:\n",
    "    print(\"Norme du gradient initial:\",la.norm(gquad(x,A,b)))\n",
    "    print(\"Norme du gradient:\",la.norm(gquad(x,A,b)))\n",
    "\n",
    "plt.plot(iterf[:,0,0])\n",
    "plt.ylabel('f')\n",
    "plt.xlabel('Itérations')\n",
    "plt.show()"
   ]
  },
  {
   "cell_type": "markdown",
   "metadata": {},
   "source": [
    "**Question**: Illustrer l'impact du conditionnement de $A$ sur les performances de l'algorithme. Vous afficherez le nombre d'itérations de la méthode de Newton et le nombre d'itérations du gradient conjugué."
   ]
  },
  {
   "cell_type": "code",
   "execution_count": null,
   "metadata": {},
   "outputs": [],
   "source": [
    "#Intitialisation du problème\n",
    "x0=np.random.randn(n,1)\n",
    "param=[10**(-6),10**(-12),100000]\n",
    "iterC=np.array([])\n",
    "iterTCG=np.array([])\n",
    "condAmax=8\n",
    "\n",
    "# Boucle sur le nombre de conditionnement\n",
    "for condA in range(condAmax):\n",
    "    # TO DO\n",
    "    # Génération et résolution du problème d'optimisationA,b0=build_problem(n,condA)\n",
    "    \n",
    "    # Sauvegarde du nombre d'itérations de la méthdode de Newton et du gradient conjugué\n",
    "    iterC=np.concatenate((iterC,np.array([nbiter])))\n",
    "    iterTCG=np.concatenate((iterTCG,np.array([iterCG])))\n",
    "\n",
    "    \n",
    "# Affichage\n",
    "xx=np.log10((10*np.ones([condAmax]))**np.linspace(1,condAmax,num=condAmax))\n",
    "\n",
    "plt.subplot(131)\n",
    "plt.plot(xx,iterC)\n",
    "plt.ylabel('Nb itérations Newton')\n",
    "plt.xlabel('Conditionnement')\n",
    "\n",
    "plt.subplot(133)\n",
    "plt.plot(xx,iterTCG)\n",
    "plt.ylabel('Nb itérations CG')\n",
    "plt.xlabel('Conditionnement')\n",
    "\n",
    "plt.show()"
   ]
  },
  {
   "cell_type": "markdown",
   "metadata": {},
   "source": [
    "## II - Minimisation d'une fonction non-linéaire"
   ]
  },
  {
   "cell_type": "code",
   "execution_count": null,
   "metadata": {},
   "outputs": [],
   "source": [
    "## Problèmes non-linéaires : fonction de Rosenbrock\n",
    "def f2(x):\n",
    "    # fonction de Rosenbrock de R^2 dans R\n",
    "    # x vecteur de taille 2\n",
    "    f=100*(x[1]-x[0]**2)**2+(1-x[0])**2\n",
    "    return f\n",
    "\n",
    "def g2(x):\n",
    "    # gradient de la fonction de Rosenbrock\n",
    "    # x vecteur de taille 2\n",
    "    g=np.zeros([2,1])\n",
    "    g[0]=-400.0*x[0]*(x[1]-x[0]**2)-2*(1-x[0])\n",
    "    g[1]=200.0*(x[1]-x[0]**2)\n",
    "    return g\n",
    "\n",
    "def h2(x):\n",
    "    # Hessienne de la fonction de Rosenbrock\n",
    "    # x vecteur de taille 2\n",
    "    H=np.zeros([2,2])\n",
    "    H[0,0]=1200*x[0]**2+2-400*x[1]\n",
    "    H[0,1]=-400*x[0]\n",
    "    H[1,0]=H[0,1]\n",
    "    H[1,1]=200.\n",
    "    return H"
   ]
  },
  {
   "cell_type": "markdown",
   "metadata": {},
   "source": [
    "**Question**: Implanter les stratégies de pas constant et de backtracking.  Implanter la méthode de descente de gradient avec choix de pas (vous pouvez utiliser l'algorithme  de descente de gradient développé pour la steepest descent)."
   ]
  },
  {
   "cell_type": "code",
   "execution_count": null,
   "metadata": {},
   "outputs": [],
   "source": [
    "# TO DO"
   ]
  },
  {
   "cell_type": "markdown",
   "metadata": {},
   "source": [
    "**Question**: Appliquer la méthode de descente avec les différentes stratégies de pas au problème $(\\mathcal{P}_2)$."
   ]
  },
  {
   "cell_type": "code",
   "execution_count": null,
   "metadata": {},
   "outputs": [],
   "source": [
    "# Paramètres du problème\n",
    "n=2\n",
    "# Minimum global\n",
    "xopt=np.ones([n,1])\n",
    "# Point de départ\n",
    "sigma_b=0.1\n",
    "x0=xopt+sigma_b*np.random.randn(n,1)\n",
    "\n",
    "#Définition des paramètres de la méthode : tolérances, nombre d'itérations,etc ..\n",
    "# TO DO\n",
    "\n",
    "# Résolution du problème d'optimisation\n",
    "# TO DO\n",
    "\n",
    "# Affichage\n",
    "#  x est le vecteur obtenu en sortie de minimisation.\n",
    "#  flag est l'entier indiquant la condition d'arrêt activée. \n",
    "#  iterf est le tableau contenant les valeurs de f au cours de la minimisation.\n",
    "\n",
    "print(\"Valeur optimale théorique de f:\",f2(xopt))\n",
    "print(\"Valeur à l'optinum numérique:\", f2(x))\n",
    "print(\"Condition d'arrêt:\", flag)\n",
    "if flag > 1:\n",
    "    print(\"Norme du gradient initial:\",la.norm(g2(x0)))\n",
    "    print(\"Norme du gradient:\",la.norm(g2(x)))\n",
    "\n",
    "    \n",
    "plt.plot(iterf[:,0])\n",
    "plt.ylabel('f')\n",
    "plt.xlabel('Itérations')\n",
    "plt.show()"
   ]
  },
  {
   "cell_type": "markdown",
   "metadata": {},
   "source": [
    "**Question**: Modifier le code l'algorithme Newton pour inclure la recherche de pas. "
   ]
  },
  {
   "cell_type": "code",
   "execution_count": null,
   "metadata": {},
   "outputs": [],
   "source": [
    "# TO DO\n",
    "# Fonction rélisant la minimisation par méthode de Newton avec stratégies de pas\n",
    "# En sortie, la fonction devra renvoyer : \n",
    "#       x : vecteur contenant l'itéré optimisé.\n",
    "#       flag : un entier indiquant la raison d'arrêt de l'algorithme : 1 - convergence, \n",
    "#              2 - stagnation de la suite des itérés, 3 - nombre d'itérations maximum atteint.\n",
    "#       nbiter : nombre d'itérations réalisées.\n",
    "#       iterf : tableau contenant les valeurs de f au cours de la minimisation.\n",
    "#       iterCG : le nombre total d'itérations réalisées lors de sdifférents appels du gradient\n",
    "#                conjugué.\n"
   ]
  },
  {
   "cell_type": "markdown",
   "metadata": {},
   "source": [
    "**Question**: Evaluer les performances de cette approche pour les différentes stratégies de pas."
   ]
  },
  {
   "cell_type": "code",
   "execution_count": null,
   "metadata": {},
   "outputs": [],
   "source": [
    "# Paramètres du problème\n",
    "n=2\n",
    "# Minimum global\n",
    "xopt=np.ones([n,1])\n",
    "# Point de départ\n",
    "sigma_b=1\n",
    "x0=xopt+sigma_b*np.random.randn(n,1)\n",
    "\n",
    "#Définition des paramètres de la méthode : tolérances, nombre d'itérations,etc ..\n",
    "# TO DO\n",
    "\n",
    "# Résolution du problème d'optimisation\n",
    "# TO DO\n",
    "\n",
    "# Affichage\n",
    "#  x est le vecteur obtenu en sortie de minimisation.\n",
    "#  flag est l'entier indiquant la condition d'arrêt activée. \n",
    "#  iterf est le tableau contenant les valeurs de f au cours de la minimisation.\n",
    "\n",
    "\n",
    "print(\"Valeur optimale théorique de f:\",f2(xopt))\n",
    "print(\"Valeur à l'optinum numérique:\", f2(x))\n",
    "print(\"Condition d'arrêt:\", flag)\n",
    "if flag > 1:\n",
    "    print(\"Norme du gradient initial:\",la.norm(g2(x0)))\n",
    "    print(\"Norme du gradient:\",la.norm(g2(x)))\n",
    "\n",
    "    \n",
    "plt.plot(iterf[:,0])\n",
    "plt.ylabel('f')\n",
    "plt.xlabel('Itérations')\n",
    "plt.show()"
   ]
  },
  {
   "cell_type": "code",
   "execution_count": null,
   "metadata": {},
   "outputs": [],
   "source": []
  }
 ],
 "metadata": {
  "kernelspec": {
   "display_name": "Python 3",
   "language": "python",
   "name": "python3"
  },
  "language_info": {
   "codemirror_mode": {
    "name": "ipython",
    "version": 3
   },
   "file_extension": ".py",
   "mimetype": "text/x-python",
   "name": "python",
   "nbconvert_exporter": "python",
   "pygments_lexer": "ipython3",
   "version": "3.6.6"
  }
 },
 "nbformat": 4,
 "nbformat_minor": 2
}
